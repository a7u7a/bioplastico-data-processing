{
 "cells": [
  {
   "cell_type": "markdown",
   "id": "d04a2f3b",
   "metadata": {},
   "source": [
    "# Data processing\n",
    "The goal of this notebook is to convert data to JSON format that can be ingested by force directed graph visualization on web"
   ]
  },
  {
   "cell_type": "code",
   "execution_count": 1,
   "id": "266004f4",
   "metadata": {},
   "outputs": [],
   "source": [
    "import pandas as pd\n",
    "import json"
   ]
  },
  {
   "cell_type": "markdown",
   "id": "672b9223",
   "metadata": {},
   "source": [
    "# Ingredient-Ingredient data"
   ]
  },
  {
   "cell_type": "markdown",
   "id": "6fc08615",
   "metadata": {},
   "source": [
    "Example of output JSON format:\n",
    "````\n",
    "{\n",
    "  \"nodes\": [\n",
    "    {\"id\": \"alginate\", \"group\": 1},\n",
    "    {\"id\": \"sodium\", \"group\": 1},\n",
    "    {\"id\": \"sodium alginate\", \"group\": 1},\n",
    "    {\"id\": \"agar\", \"group\": 1},\n",
    "    {\"id\": \"carrageenan\", \"group\": 1}\n",
    "  ],\n",
    "  \"links\": [\n",
    "    {\"source\": \"alginate\", \"target\": \"sodium\", \"value\": 1},\n",
    "    {\"source\": \"sodium alginate\", \"target\": \"agar\", \"value\": 8},\n",
    "    {\"source\": \"carrageenan\", \"target\": \"agar\", \"value\": 10}\n",
    "  ]\n",
    "}\n",
    "````\n"
   ]
  },
  {
   "cell_type": "code",
   "execution_count": 2,
   "id": "3f692700",
   "metadata": {},
   "outputs": [
    {
     "name": "stdout",
     "output_type": "stream",
     "text": [
      "             times  docids_count\n",
      "count  2761.000000   2761.000000\n",
      "mean      5.087287      6.383919\n",
      "std      23.147636     33.839899\n",
      "min       1.000000      1.000000\n",
      "25%       1.000000      1.000000\n",
      "50%       1.000000      1.000000\n",
      "75%       3.000000      3.000000\n",
      "max     547.000000   1033.000000\n"
     ]
    },
    {
     "data": {
      "text/html": [
       "<div>\n",
       "<style scoped>\n",
       "    .dataframe tbody tr th:only-of-type {\n",
       "        vertical-align: middle;\n",
       "    }\n",
       "\n",
       "    .dataframe tbody tr th {\n",
       "        vertical-align: top;\n",
       "    }\n",
       "\n",
       "    .dataframe thead th {\n",
       "        text-align: right;\n",
       "    }\n",
       "</style>\n",
       "<table border=\"1\" class=\"dataframe\">\n",
       "  <thead>\n",
       "    <tr style=\"text-align: right;\">\n",
       "      <th></th>\n",
       "      <th>first</th>\n",
       "      <th>second</th>\n",
       "      <th>times</th>\n",
       "      <th>docids</th>\n",
       "      <th>docids_count</th>\n",
       "    </tr>\n",
       "  </thead>\n",
       "  <tbody>\n",
       "    <tr>\n",
       "      <th>0</th>\n",
       "      <td>alginate</td>\n",
       "      <td>alginate</td>\n",
       "      <td>547</td>\n",
       "      <td>[3, 5, 6, 7, 10, 12, 13, 14, 15, 16, 17, 18, 1...</td>\n",
       "      <td>1033</td>\n",
       "    </tr>\n",
       "    <tr>\n",
       "      <th>1</th>\n",
       "      <td>alginate</td>\n",
       "      <td>sodium</td>\n",
       "      <td>532</td>\n",
       "      <td>[3, 6, 10, 12, 14, 16, 19, 20, 21, 23, 24, 25,...</td>\n",
       "      <td>532</td>\n",
       "    </tr>\n",
       "    <tr>\n",
       "      <th>2</th>\n",
       "      <td>alginate</td>\n",
       "      <td>sodium alginate</td>\n",
       "      <td>508</td>\n",
       "      <td>[3, 6, 10, 12, 14, 16, 19, 20, 21, 23, 24, 25,...</td>\n",
       "      <td>508</td>\n",
       "    </tr>\n",
       "    <tr>\n",
       "      <th>3</th>\n",
       "      <td>sodium</td>\n",
       "      <td>sodium alginate</td>\n",
       "      <td>508</td>\n",
       "      <td>[3, 6, 10, 12, 14, 16, 19, 20, 21, 23, 24, 25,...</td>\n",
       "      <td>508</td>\n",
       "    </tr>\n",
       "    <tr>\n",
       "      <th>4</th>\n",
       "      <td>sodium</td>\n",
       "      <td>sodium</td>\n",
       "      <td>200</td>\n",
       "      <td>[3, 6, 10, 11, 12, 14, 16, 19, 20, 21, 23, 24,...</td>\n",
       "      <td>564</td>\n",
       "    </tr>\n",
       "  </tbody>\n",
       "</table>\n",
       "</div>"
      ],
      "text/plain": [
       "      first           second  times  \\\n",
       "0  alginate         alginate    547   \n",
       "1  alginate           sodium    532   \n",
       "2  alginate  sodium alginate    508   \n",
       "3    sodium  sodium alginate    508   \n",
       "4    sodium           sodium    200   \n",
       "\n",
       "                                              docids  docids_count  \n",
       "0  [3, 5, 6, 7, 10, 12, 13, 14, 15, 16, 17, 18, 1...          1033  \n",
       "1  [3, 6, 10, 12, 14, 16, 19, 20, 21, 23, 24, 25,...           532  \n",
       "2  [3, 6, 10, 12, 14, 16, 19, 20, 21, 23, 24, 25,...           508  \n",
       "3  [3, 6, 10, 12, 14, 16, 19, 20, 21, 23, 24, 25,...           508  \n",
       "4  [3, 6, 10, 11, 12, 14, 16, 19, 20, 21, 23, 24,...           564  "
      ]
     },
     "execution_count": 2,
     "metadata": {},
     "output_type": "execute_result"
    }
   ],
   "source": [
    "ing_ing = pd.read_csv('ingredient-ingredient.csv')\n",
    "\n",
    "# check length of docids for the first row\n",
    "# print(len(json.loads(ing_ing.loc[0].docids)))\n",
    "\n",
    "# convert docids from string to list\n",
    "ing_ing[\"docids\"] = ing_ing.apply(lambda row: json.loads(row[\"docids\"]), axis=1)\n",
    "ing_ing[\"docids_count\"] = ing_ing.apply(lambda row: len(row[\"docids\"]), axis=1)\n",
    "print(ing_ing.describe())\n",
    "ing_ing.head()"
   ]
  },
  {
   "cell_type": "markdown",
   "id": "02caa0fc",
   "metadata": {},
   "source": [
    "### \"times\" to \"docids\" ratio"
   ]
  },
  {
   "cell_type": "code",
   "execution_count": 3,
   "id": "93510088",
   "metadata": {},
   "outputs": [
    {
     "data": {
      "text/plain": [
       "<AxesSubplot:xlabel='times'>"
      ]
     },
     "execution_count": 3,
     "metadata": {},
     "output_type": "execute_result"
    },
    {
     "data": {
      "image/png": "[encoded data removed]",
      "text/plain": [
       "<Figure size 640x480 with 1 Axes>"
      ]
     },
     "metadata": {},
     "output_type": "display_data"
    }
   ],
   "source": [
    "ing_ing.plot(x=\"times\", y=\"docids_count\")"
   ]
  },
  {
   "cell_type": "markdown",
   "id": "fbfd2628",
   "metadata": {},
   "source": [
    "### Plot distribution"
   ]
  },
  {
   "cell_type": "code",
   "execution_count": 4,
   "id": "50d082b0",
   "metadata": {},
   "outputs": [
    {
     "data": {
      "text/plain": [
       "<AxesSubplot:ylabel='Density'>"
      ]
     },
     "execution_count": 4,
     "metadata": {},
     "output_type": "execute_result"
    },
    {
     "data": {
      "image/png": "[encoded data removed]",
      "text/plain": [
       "<Figure size 640x480 with 1 Axes>"
      ]
     },
     "metadata": {},
     "output_type": "display_data"
    }
   ],
   "source": [
    "ing_ing.plot(kind='kde')"
   ]
  },
  {
   "cell_type": "markdown",
   "id": "753c44d4",
   "metadata": {},
   "source": [
    "### Compare ingredient names"
   ]
  },
  {
   "cell_type": "code",
   "execution_count": 5,
   "id": "d513289e",
   "metadata": {},
   "outputs": [
    {
     "data": {
      "text/plain": [
       "208"
      ]
     },
     "execution_count": 5,
     "metadata": {},
     "output_type": "execute_result"
    }
   ],
   "source": [
    "len(ing_ing[\"first\"].unique())"
   ]
  },
  {
   "cell_type": "code",
   "execution_count": 6,
   "id": "4fb61d84",
   "metadata": {},
   "outputs": [
    {
     "data": {
      "text/plain": [
       "224"
      ]
     },
     "execution_count": 6,
     "metadata": {},
     "output_type": "execute_result"
    }
   ],
   "source": [
    "len(ing_ing[\"second\"].unique())"
   ]
  },
  {
   "cell_type": "markdown",
   "id": "cd93366c",
   "metadata": {},
   "source": [
    "### Filter data"
   ]
  },
  {
   "cell_type": "markdown",
   "id": "a9275d13",
   "metadata": {},
   "source": [
    "Filter rows whose \"times\" and \"docids_count\" value are below a threshold"
   ]
  },
  {
   "cell_type": "code",
   "execution_count": 7,
   "id": "bdc37114",
   "metadata": {},
   "outputs": [],
   "source": [
    "def filter_low_values(ing_ing):\n",
    "    times_thresh = 5\n",
    "    docids_thresh = 20\n",
    "    filtered_times = ing_ing[ing_ing['times'] > times_thresh]\n",
    "    print(\"Dropped after times <\",times_thresh ,\"=\", len(ing_ing)-len(filtered_times))\n",
    "    filtered_docids = filtered_times[filtered_times['docids_count'] > docids_thresh]\n",
    "    print(\"Dropped after docids_count <\",docids_thresh,\"=\", len(filtered_times)-len(filtered_docids))\n",
    "    print(\"Final rows\",len(filtered_docids))\n",
    "    filtered_docids.plot(kind='kde')\n",
    "    return filtered_docids"
   ]
  },
  {
   "cell_type": "code",
   "execution_count": 8,
   "id": "e7d0e4dc",
   "metadata": {},
   "outputs": [
    {
     "name": "stdout",
     "output_type": "stream",
     "text": [
      "Dropped after times < 5 = 2363\n",
      "Dropped after docids_count < 20 = 282\n",
      "Final rows 116\n"
     ]
    },
    {
     "data": {
      "image/png": "[encoded data removed]",
      "text/plain": [
       "<Figure size 640x480 with 1 Axes>"
      ]
     },
     "metadata": {},
     "output_type": "display_data"
    }
   ],
   "source": [
    "filtered_ing_ing = filter_low_values(ing_ing)"
   ]
  },
  {
   "cell_type": "markdown",
   "id": "bdba7377",
   "metadata": {},
   "source": [
    "Filter rows whose ingredient names are equal. Since we can't visualize rows like: \"alginate\" - \"alginate\""
   ]
  },
  {
   "cell_type": "code",
   "execution_count": 9,
   "id": "d76961eb",
   "metadata": {},
   "outputs": [],
   "source": [
    "def filter_repeated_links(ing_ing):\n",
    "    somelist = []\n",
    "    for index, row in ing_ing.iterrows():\n",
    "        if row[\"first\"] != row[\"second\"]:\n",
    "            somelist.append(row)\n",
    "    return pd.DataFrame(somelist)"
   ]
  },
  {
   "cell_type": "code",
   "execution_count": 10,
   "id": "b189cfb5",
   "metadata": {},
   "outputs": [
    {
     "name": "stdout",
     "output_type": "stream",
     "text": [
      "Dropped 36 rows\n",
      "Final rows: 80\n"
     ]
    },
    {
     "data": {
      "text/html": [
       "<div>\n",
       "<style scoped>\n",
       "    .dataframe tbody tr th:only-of-type {\n",
       "        vertical-align: middle;\n",
       "    }\n",
       "\n",
       "    .dataframe tbody tr th {\n",
       "        vertical-align: top;\n",
       "    }\n",
       "\n",
       "    .dataframe thead th {\n",
       "        text-align: right;\n",
       "    }\n",
       "</style>\n",
       "<table border=\"1\" class=\"dataframe\">\n",
       "  <thead>\n",
       "    <tr style=\"text-align: right;\">\n",
       "      <th></th>\n",
       "      <th>first</th>\n",
       "      <th>second</th>\n",
       "      <th>times</th>\n",
       "      <th>docids</th>\n",
       "      <th>docids_count</th>\n",
       "    </tr>\n",
       "  </thead>\n",
       "  <tbody>\n",
       "    <tr>\n",
       "      <th>1</th>\n",
       "      <td>alginate</td>\n",
       "      <td>sodium</td>\n",
       "      <td>532</td>\n",
       "      <td>[3, 6, 10, 12, 14, 16, 19, 20, 21, 23, 24, 25,...</td>\n",
       "      <td>532</td>\n",
       "    </tr>\n",
       "    <tr>\n",
       "      <th>2</th>\n",
       "      <td>alginate</td>\n",
       "      <td>sodium alginate</td>\n",
       "      <td>508</td>\n",
       "      <td>[3, 6, 10, 12, 14, 16, 19, 20, 21, 23, 24, 25,...</td>\n",
       "      <td>508</td>\n",
       "    </tr>\n",
       "    <tr>\n",
       "      <th>3</th>\n",
       "      <td>sodium</td>\n",
       "      <td>sodium alginate</td>\n",
       "      <td>508</td>\n",
       "      <td>[3, 6, 10, 12, 14, 16, 19, 20, 21, 23, 24, 25,...</td>\n",
       "      <td>508</td>\n",
       "    </tr>\n",
       "    <tr>\n",
       "      <th>5</th>\n",
       "      <td>alginate</td>\n",
       "      <td>calcium</td>\n",
       "      <td>185</td>\n",
       "      <td>[5, 7, 13, 29, 33, 62, 79, 97, 98, 116, 118, 1...</td>\n",
       "      <td>185</td>\n",
       "    </tr>\n",
       "    <tr>\n",
       "      <th>7</th>\n",
       "      <td>alginate</td>\n",
       "      <td>chitosan</td>\n",
       "      <td>179</td>\n",
       "      <td>[5, 10, 17, 23, 30, 35, 52, 101, 127, 138, 146...</td>\n",
       "      <td>179</td>\n",
       "    </tr>\n",
       "  </tbody>\n",
       "</table>\n",
       "</div>"
      ],
      "text/plain": [
       "      first           second  times  \\\n",
       "1  alginate           sodium    532   \n",
       "2  alginate  sodium alginate    508   \n",
       "3    sodium  sodium alginate    508   \n",
       "5  alginate          calcium    185   \n",
       "7  alginate         chitosan    179   \n",
       "\n",
       "                                              docids  docids_count  \n",
       "1  [3, 6, 10, 12, 14, 16, 19, 20, 21, 23, 24, 25,...           532  \n",
       "2  [3, 6, 10, 12, 14, 16, 19, 20, 21, 23, 24, 25,...           508  \n",
       "3  [3, 6, 10, 12, 14, 16, 19, 20, 21, 23, 24, 25,...           508  \n",
       "5  [5, 7, 13, 29, 33, 62, 79, 97, 98, 116, 118, 1...           185  \n",
       "7  [5, 10, 17, 23, 30, 35, 52, 101, 127, 138, 146...           179  "
      ]
     },
     "execution_count": 10,
     "metadata": {},
     "output_type": "execute_result"
    }
   ],
   "source": [
    "filtered_no_repeat_ing_ing = filter_repeated_links(filtered_ing_ing)\n",
    "print(\"Dropped\",len(filtered_ing_ing)- len(filtered_no_repeat_ing_ing), \"rows\")\n",
    "print(\"Final rows:\",len(filtered_no_repeat_ing_ing) )\n",
    "filtered_no_repeat_ing_ing.head()"
   ]
  },
  {
   "cell_type": "markdown",
   "id": "010d1bb4",
   "metadata": {},
   "source": [
    "### Data export\n",
    "Export data for d3 force graph visualization"
   ]
  },
  {
   "cell_type": "code",
   "execution_count": 27,
   "id": "e6cdbf78",
   "metadata": {},
   "outputs": [],
   "source": [
    "def create_nodes_list(df):\n",
    "    # list of all unique nodes in both columns\n",
    "    ing_list =[]\n",
    "    unique_union = list(set(df[\"first\"].unique()).union(set(df[\"second\"].unique())))\n",
    "    for ingredient in unique_union:\n",
    "        ing_dict = {}\n",
    "        ing_dict[\"id\"] = ingredient\n",
    "        ing_list.append(ing_dict)\n",
    "    return json.dumps(ing_list)"
   ]
  },
  {
   "cell_type": "code",
   "execution_count": 28,
   "id": "cb4cec8d",
   "metadata": {},
   "outputs": [
    {
     "data": {
      "text/plain": [
       "'[{\"id\": \"poly vinyl alcohol\"}, {\"id\": \"alginate\"}, {\"id\": \"sodium alginate\"}, {\"id\": \"silver\"}, {\"id\": \"propylene\"}, {\"id\": \"carrageenan\"}, {\"id\": \"methyl\"}, {\"id\": \"cellulose\"}, {\"id\": \"graphene oxide\"}, {\"id\": \"xanthan gum\"}, {\"id\": \"chloride\"}, {\"id\": \"alcohol\"}, {\"id\": \"collagen\"}, {\"id\": \"soy protein\"}, {\"id\": \"calcium chloride\"}, {\"id\": \"gelatin\"}, {\"id\": \"glycerol\"}, {\"id\": \"chitosan\"}, {\"id\": \"calcium\"}, {\"id\": \"zinc\"}, {\"id\": \"starch\"}, {\"id\": \"gum\"}, {\"id\": \"polyethylene glycol\"}, {\"id\": \"xanthan\"}, {\"id\": \"carbon\"}, {\"id\": \"pectin\"}, {\"id\": \"soy\"}, {\"id\": \"sodium\"}, {\"id\": \"graphene\"}, {\"id\": \"agar\"}, {\"id\": \"whey protein\"}, {\"id\": \"\\\\u03ba carrageenan\"}]'"
      ]
     },
     "execution_count": 28,
     "metadata": {},
     "output_type": "execute_result"
    }
   ],
   "source": [
    "nodes_list = create_nodes_list(filtered_no_repeat_ing_ing)\n",
    "nodes_list"
   ]
  },
  {
   "cell_type": "markdown",
   "id": "3ce1d8fa",
   "metadata": {},
   "source": [
    "### Load Ingredient-Property data"
   ]
  },
  {
   "cell_type": "code",
   "execution_count": 7,
   "id": "8b720468",
   "metadata": {},
   "outputs": [
    {
     "data": {
      "text/html": [
       "<div>\n",
       "<style scoped>\n",
       "    .dataframe tbody tr th:only-of-type {\n",
       "        vertical-align: middle;\n",
       "    }\n",
       "\n",
       "    .dataframe tbody tr th {\n",
       "        vertical-align: top;\n",
       "    }\n",
       "\n",
       "    .dataframe thead th {\n",
       "        text-align: right;\n",
       "    }\n",
       "</style>\n",
       "<table border=\"1\" class=\"dataframe\">\n",
       "  <thead>\n",
       "    <tr style=\"text-align: right;\">\n",
       "      <th></th>\n",
       "      <th>ingredient</th>\n",
       "      <th>property</th>\n",
       "      <th>times</th>\n",
       "      <th>docids</th>\n",
       "    </tr>\n",
       "  </thead>\n",
       "  <tbody>\n",
       "    <tr>\n",
       "      <th>0</th>\n",
       "      <td>alginate</td>\n",
       "      <td>tensile strength</td>\n",
       "      <td>320</td>\n",
       "      <td>[6, 13, 14, 16, 19, 20, 21, 28, 29, 30, 38, 42...</td>\n",
       "    </tr>\n",
       "    <tr>\n",
       "      <th>1</th>\n",
       "      <td>alginate</td>\n",
       "      <td>water vapor</td>\n",
       "      <td>201</td>\n",
       "      <td>[3, 6, 7, 13, 16, 17, 18, 19, 22, 42, 62, 67, ...</td>\n",
       "    </tr>\n",
       "    <tr>\n",
       "      <th>2</th>\n",
       "      <td>sodium</td>\n",
       "      <td>tensile strength</td>\n",
       "      <td>196</td>\n",
       "      <td>[6, 11, 14, 16, 19, 20, 21, 29, 38, 42, 67, 68...</td>\n",
       "    </tr>\n",
       "    <tr>\n",
       "      <th>3</th>\n",
       "      <td>sodium alginate</td>\n",
       "      <td>tensile strength</td>\n",
       "      <td>182</td>\n",
       "      <td>[6, 14, 16, 19, 20, 21, 29, 38, 42, 67, 68, 69...</td>\n",
       "    </tr>\n",
       "    <tr>\n",
       "      <th>4</th>\n",
       "      <td>alginate</td>\n",
       "      <td>thickness</td>\n",
       "      <td>149</td>\n",
       "      <td>[14, 23, 33, 85, 92, 100, 134, 140, 189, 195, ...</td>\n",
       "    </tr>\n",
       "  </tbody>\n",
       "</table>\n",
       "</div>"
      ],
      "text/plain": [
       "        ingredient          property  times  \\\n",
       "0         alginate  tensile strength    320   \n",
       "1         alginate       water vapor    201   \n",
       "2           sodium  tensile strength    196   \n",
       "3  sodium alginate  tensile strength    182   \n",
       "4         alginate         thickness    149   \n",
       "\n",
       "                                              docids  \n",
       "0  [6, 13, 14, 16, 19, 20, 21, 28, 29, 30, 38, 42...  \n",
       "1  [3, 6, 7, 13, 16, 17, 18, 19, 22, 42, 62, 67, ...  \n",
       "2  [6, 11, 14, 16, 19, 20, 21, 29, 38, 42, 67, 68...  \n",
       "3  [6, 14, 16, 19, 20, 21, 29, 38, 42, 67, 68, 69...  \n",
       "4  [14, 23, 33, 85, 92, 100, 134, 140, 189, 195, ...  "
      ]
     },
     "execution_count": 7,
     "metadata": {},
     "output_type": "execute_result"
    }
   ],
   "source": [
    "ing_prop = pd.read_excel('ingredient-property.xlsx') \n",
    "ing_prop.head()"
   ]
  },
  {
   "cell_type": "markdown",
   "id": "709a5e32",
   "metadata": {},
   "source": [
    "### Load Abstracts Database"
   ]
  },
  {
   "cell_type": "code",
   "execution_count": 10,
   "id": "7bf888c5",
   "metadata": {},
   "outputs": [
    {
     "data": {
      "text/html": [
       "<div>\n",
       "<style scoped>\n",
       "    .dataframe tbody tr th:only-of-type {\n",
       "        vertical-align: middle;\n",
       "    }\n",
       "\n",
       "    .dataframe tbody tr th {\n",
       "        vertical-align: top;\n",
       "    }\n",
       "\n",
       "    .dataframe thead th {\n",
       "        text-align: right;\n",
       "    }\n",
       "</style>\n",
       "<table border=\"1\" class=\"dataframe\">\n",
       "  <thead>\n",
       "    <tr style=\"text-align: right;\">\n",
       "      <th></th>\n",
       "      <th>ID</th>\n",
       "      <th>Authors</th>\n",
       "      <th>Title</th>\n",
       "      <th>Year</th>\n",
       "      <th>DOI</th>\n",
       "      <th>Link</th>\n",
       "      <th>Abstract</th>\n",
       "      <th>DOWNLOAD</th>\n",
       "    </tr>\n",
       "  </thead>\n",
       "  <tbody>\n",
       "    <tr>\n",
       "      <th>0</th>\n",
       "      <td>0</td>\n",
       "      <td>Marvizadeh M.M.; Tajik A.; Moosavian V.; Oladz...</td>\n",
       "      <td>Fabrication of cassava starch/mentha piperita ...</td>\n",
       "      <td>2021.0</td>\n",
       "      <td>10.22034/jchr.2020.1900584.1135</td>\n",
       "      <td>https://www.scopus.com/inward/record.uri?eid=2...</td>\n",
       "      <td>In this study; an edible film is prepared usin...</td>\n",
       "      <td>1.0</td>\n",
       "    </tr>\n",
       "    <tr>\n",
       "      <th>1</th>\n",
       "      <td>1</td>\n",
       "      <td>Yu G.; Zhang Q.; Wang Y.; Yang Q.; Yu H.; Li H...</td>\n",
       "      <td>Sulfated polysaccharides from red seaweed Geli...</td>\n",
       "      <td>2021.0</td>\n",
       "      <td>10.1016/j.foodhyd.2021.106820</td>\n",
       "      <td>https://www.scopus.com/inward/record.uri?eid=2...</td>\n",
       "      <td>Marine red algae are rich sources of sulfated ...</td>\n",
       "      <td>1.0</td>\n",
       "    </tr>\n",
       "    <tr>\n",
       "      <th>2</th>\n",
       "      <td>2</td>\n",
       "      <td>Wang B.; Yan S.; Gao W.; Kang X.; Yu B.; Liu P...</td>\n",
       "      <td>Antibacterial activity; optical; and functiona...</td>\n",
       "      <td>2021.0</td>\n",
       "      <td>10.1016/j.foodchem.2021.129743</td>\n",
       "      <td>https://www.scopus.com/inward/record.uri?eid=2...</td>\n",
       "      <td>In this study; the optical; morphological; ant...</td>\n",
       "      <td>1.0</td>\n",
       "    </tr>\n",
       "    <tr>\n",
       "      <th>3</th>\n",
       "      <td>3</td>\n",
       "      <td>Zhang J.; Huang X.; Shi J.; Liu L.; Zhang X.; ...</td>\n",
       "      <td>A visual bi-layer indicator based on roselle a...</td>\n",
       "      <td>2021.0</td>\n",
       "      <td>10.1016/j.foodchem.2021.129573</td>\n",
       "      <td>https://www.scopus.com/inward/record.uri?eid=2...</td>\n",
       "      <td>This study designed a new type indicator with ...</td>\n",
       "      <td>1.0</td>\n",
       "    </tr>\n",
       "    <tr>\n",
       "      <th>4</th>\n",
       "      <td>4</td>\n",
       "      <td>Roy S.; Rhim J.-W.</td>\n",
       "      <td>Fabrication of pectin/agar blended functional ...</td>\n",
       "      <td>2021.0</td>\n",
       "      <td>10.1016/j.foodhyd.2021.106823</td>\n",
       "      <td>https://www.scopus.com/inward/record.uri?eid=2...</td>\n",
       "      <td>Pectin/agar blended multifunctional composite ...</td>\n",
       "      <td>1.0</td>\n",
       "    </tr>\n",
       "  </tbody>\n",
       "</table>\n",
       "</div>"
      ],
      "text/plain": [
       "   ID                                            Authors  \\\n",
       "0   0  Marvizadeh M.M.; Tajik A.; Moosavian V.; Oladz...   \n",
       "1   1  Yu G.; Zhang Q.; Wang Y.; Yang Q.; Yu H.; Li H...   \n",
       "2   2  Wang B.; Yan S.; Gao W.; Kang X.; Yu B.; Liu P...   \n",
       "3   3  Zhang J.; Huang X.; Shi J.; Liu L.; Zhang X.; ...   \n",
       "4   4                                 Roy S.; Rhim J.-W.   \n",
       "\n",
       "                                               Title    Year  \\\n",
       "0  Fabrication of cassava starch/mentha piperita ...  2021.0   \n",
       "1  Sulfated polysaccharides from red seaweed Geli...  2021.0   \n",
       "2  Antibacterial activity; optical; and functiona...  2021.0   \n",
       "3  A visual bi-layer indicator based on roselle a...  2021.0   \n",
       "4  Fabrication of pectin/agar blended functional ...  2021.0   \n",
       "\n",
       "                               DOI  \\\n",
       "0  10.22034/jchr.2020.1900584.1135   \n",
       "1    10.1016/j.foodhyd.2021.106820   \n",
       "2   10.1016/j.foodchem.2021.129743   \n",
       "3   10.1016/j.foodchem.2021.129573   \n",
       "4    10.1016/j.foodhyd.2021.106823   \n",
       "\n",
       "                                                Link  \\\n",
       "0  https://www.scopus.com/inward/record.uri?eid=2...   \n",
       "1  https://www.scopus.com/inward/record.uri?eid=2...   \n",
       "2  https://www.scopus.com/inward/record.uri?eid=2...   \n",
       "3  https://www.scopus.com/inward/record.uri?eid=2...   \n",
       "4  https://www.scopus.com/inward/record.uri?eid=2...   \n",
       "\n",
       "                                            Abstract  DOWNLOAD  \n",
       "0  In this study; an edible film is prepared usin...       1.0  \n",
       "1  Marine red algae are rich sources of sulfated ...       1.0  \n",
       "2  In this study; the optical; morphological; ant...       1.0  \n",
       "3  This study designed a new type indicator with ...       1.0  \n",
       "4  Pectin/agar blended multifunctional composite ...       1.0  "
      ]
     },
     "execution_count": 10,
     "metadata": {},
     "output_type": "execute_result"
    }
   ],
   "source": [
    "abstracts_database = pd.read_excel('article-abstract-doi-database.xlsx') \n",
    "abstracts_database.head()"
   ]
  },
  {
   "cell_type": "code",
   "execution_count": null,
   "id": "a3b16aee",
   "metadata": {},
   "outputs": [],
   "source": []
  }
 ],
 "metadata": {
  "kernelspec": {
   "display_name": "Python 3 (ipykernel)",
   "language": "python",
   "name": "python3"
  },
  "language_info": {
   "codemirror_mode": {
    "name": "ipython",
    "version": 3
   },
   "file_extension": ".py",
   "mimetype": "text/x-python",
   "name": "python",
   "nbconvert_exporter": "python",
   "pygments_lexer": "ipython3",
   "version": "3.8.15"
  }
 },
 "nbformat": 4,
 "nbformat_minor": 5
}
