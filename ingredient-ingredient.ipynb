{
 "cells": [
  {
   "cell_type": "markdown",
   "id": "d04a2f3b",
   "metadata": {},
   "source": [
    "# Data processing\n",
    "The goal of this notebook is to convert data to JSON format that can be ingested by force directed graph visualization on web"
   ]
  },
  {
   "cell_type": "code",
   "execution_count": 1,
   "id": "266004f4",
   "metadata": {},
   "outputs": [],
   "source": [
    "import pandas as pd\n",
    "import json"
   ]
  },
  {
   "cell_type": "markdown",
   "id": "672b9223",
   "metadata": {},
   "source": [
    "# Ingredient-Ingredient data"
   ]
  },
  {
   "cell_type": "markdown",
   "id": "6fc08615",
   "metadata": {},
   "source": [
    "Example of output JSON format:\n",
    "````\n",
    "{\n",
    "  \"nodes\": [\n",
    "    {\"id\": \"alginate\", \"group\": 1},\n",
    "    {\"id\": \"sodium\", \"group\": 1},\n",
    "    {\"id\": \"sodium alginate\", \"group\": 1},\n",
    "    {\"id\": \"agar\", \"group\": 1},\n",
    "    {\"id\": \"carrageenan\", \"group\": 1}\n",
    "  ],\n",
    "  \"links\": [\n",
    "    {\"source\": \"alginate\", \"target\": \"sodium\", \"value\": 1},\n",
    "    {\"source\": \"sodium alginate\", \"target\": \"agar\", \"value\": 8},\n",
    "    {\"source\": \"carrageenan\", \"target\": \"agar\", \"value\": 10}\n",
    "  ]\n",
    "}\n",
    "````\n"
   ]
  },
  {
   "cell_type": "code",
   "execution_count": 2,
   "id": "3f692700",
   "metadata": {},
   "outputs": [
    {
     "name": "stdout",
     "output_type": "stream",
     "text": [
      "             times  docids_count\n",
      "count  2761.000000   2761.000000\n",
      "mean      5.087287      6.383919\n",
      "std      23.147636     33.839899\n",
      "min       1.000000      1.000000\n",
      "25%       1.000000      1.000000\n",
      "50%       1.000000      1.000000\n",
      "75%       3.000000      3.000000\n",
      "max     547.000000   1033.000000\n"
     ]
    },
    {
     "data": {
      "text/html": [
       "<div>\n",
       "<style scoped>\n",
       "    .dataframe tbody tr th:only-of-type {\n",
       "        vertical-align: middle;\n",
       "    }\n",
       "\n",
       "    .dataframe tbody tr th {\n",
       "        vertical-align: top;\n",
       "    }\n",
       "\n",
       "    .dataframe thead th {\n",
       "        text-align: right;\n",
       "    }\n",
       "</style>\n",
       "<table border=\"1\" class=\"dataframe\">\n",
       "  <thead>\n",
       "    <tr style=\"text-align: right;\">\n",
       "      <th></th>\n",
       "      <th>first</th>\n",
       "      <th>second</th>\n",
       "      <th>times</th>\n",
       "      <th>docids</th>\n",
       "      <th>docids_count</th>\n",
       "    </tr>\n",
       "  </thead>\n",
       "  <tbody>\n",
       "    <tr>\n",
       "      <th>0</th>\n",
       "      <td>alginate</td>\n",
       "      <td>alginate</td>\n",
       "      <td>547</td>\n",
       "      <td>[3, 5, 6, 7, 10, 12, 13, 14, 15, 16, 17, 18, 1...</td>\n",
       "      <td>1033</td>\n",
       "    </tr>\n",
       "    <tr>\n",
       "      <th>1</th>\n",
       "      <td>alginate</td>\n",
       "      <td>sodium</td>\n",
       "      <td>532</td>\n",
       "      <td>[3, 6, 10, 12, 14, 16, 19, 20, 21, 23, 24, 25,...</td>\n",
       "      <td>532</td>\n",
       "    </tr>\n",
       "    <tr>\n",
       "      <th>2</th>\n",
       "      <td>alginate</td>\n",
       "      <td>sodium alginate</td>\n",
       "      <td>508</td>\n",
       "      <td>[3, 6, 10, 12, 14, 16, 19, 20, 21, 23, 24, 25,...</td>\n",
       "      <td>508</td>\n",
       "    </tr>\n",
       "    <tr>\n",
       "      <th>3</th>\n",
       "      <td>sodium</td>\n",
       "      <td>sodium alginate</td>\n",
       "      <td>508</td>\n",
       "      <td>[3, 6, 10, 12, 14, 16, 19, 20, 21, 23, 24, 25,...</td>\n",
       "      <td>508</td>\n",
       "    </tr>\n",
       "    <tr>\n",
       "      <th>4</th>\n",
       "      <td>sodium</td>\n",
       "      <td>sodium</td>\n",
       "      <td>200</td>\n",
       "      <td>[3, 6, 10, 11, 12, 14, 16, 19, 20, 21, 23, 24,...</td>\n",
       "      <td>564</td>\n",
       "    </tr>\n",
       "  </tbody>\n",
       "</table>\n",
       "</div>"
      ],
      "text/plain": [
       "      first           second  times  \\\n",
       "0  alginate         alginate    547   \n",
       "1  alginate           sodium    532   \n",
       "2  alginate  sodium alginate    508   \n",
       "3    sodium  sodium alginate    508   \n",
       "4    sodium           sodium    200   \n",
       "\n",
       "                                              docids  docids_count  \n",
       "0  [3, 5, 6, 7, 10, 12, 13, 14, 15, 16, 17, 18, 1...          1033  \n",
       "1  [3, 6, 10, 12, 14, 16, 19, 20, 21, 23, 24, 25,...           532  \n",
       "2  [3, 6, 10, 12, 14, 16, 19, 20, 21, 23, 24, 25,...           508  \n",
       "3  [3, 6, 10, 12, 14, 16, 19, 20, 21, 23, 24, 25,...           508  \n",
       "4  [3, 6, 10, 11, 12, 14, 16, 19, 20, 21, 23, 24,...           564  "
      ]
     },
     "execution_count": 2,
     "metadata": {},
     "output_type": "execute_result"
    }
   ],
   "source": [
    "ing_ing = pd.read_csv('ingredient-ingredient.csv')\n",
    "\n",
    "# check length of docids for the first row\n",
    "# print(len(json.loads(ing_ing.loc[0].docids)))\n",
    "\n",
    "# convert docids from string to list\n",
    "ing_ing[\"docids\"] = ing_ing.apply(lambda row: json.loads(row[\"docids\"]), axis=1)\n",
    "# add column with docids count\n",
    "ing_ing[\"docids_count\"] = ing_ing.apply(lambda row: len(row[\"docids\"]), axis=1)\n",
    "print(ing_ing.describe())\n",
    "ing_ing.head()"
   ]
  },
  {
   "cell_type": "markdown",
   "id": "c45f888b",
   "metadata": {},
   "source": [
    "### \"times\" to \"docids\" ratio"
   ]
  },
  {
   "cell_type": "code",
   "execution_count": 3,
   "id": "b338ad12",
   "metadata": {},
   "outputs": [
    {
     "data": {
      "text/plain": [
       "<AxesSubplot:xlabel='times'>"
      ]
     },
     "execution_count": 3,
     "metadata": {},
     "output_type": "execute_result"
    },
    {
     "data": {
      "image/png": "[encoded data removed]",
      "text/plain": [
       "<Figure size 640x480 with 1 Axes>"
      ]
     },
     "metadata": {},
     "output_type": "display_data"
    }
   ],
   "source": [
    "ing_ing.plot(x=\"times\", y=\"docids_count\")"
   ]
  },
  {
   "cell_type": "markdown",
   "id": "c3dbd729",
   "metadata": {},
   "source": [
    "### Plot distribution"
   ]
  },
  {
   "cell_type": "code",
   "execution_count": 4,
   "id": "4d5f2d08",
   "metadata": {},
   "outputs": [
    {
     "data": {
      "text/plain": [
       "<AxesSubplot:ylabel='Density'>"
      ]
     },
     "execution_count": 4,
     "metadata": {},
     "output_type": "execute_result"
    },
    {
     "data": {
      "image/png": "[encoded data removed]",
      "text/plain": [
       "<Figure size 640x480 with 1 Axes>"
      ]
     },
     "metadata": {},
     "output_type": "display_data"
    }
   ],
   "source": [
    "ing_ing.plot(kind='kde')"
   ]
  },
  {
   "cell_type": "markdown",
   "id": "136df21f",
   "metadata": {},
   "source": [
    "### Compare ingredient names"
   ]
  },
  {
   "cell_type": "code",
   "execution_count": 5,
   "id": "94a6f326",
   "metadata": {},
   "outputs": [
    {
     "data": {
      "text/plain": [
       "208"
      ]
     },
     "execution_count": 5,
     "metadata": {},
     "output_type": "execute_result"
    }
   ],
   "source": [
    "len(ing_ing[\"first\"].unique())"
   ]
  },
  {
   "cell_type": "code",
   "execution_count": 6,
   "id": "b654566b",
   "metadata": {},
   "outputs": [
    {
     "data": {
      "text/plain": [
       "224"
      ]
     },
     "execution_count": 6,
     "metadata": {},
     "output_type": "execute_result"
    }
   ],
   "source": [
    "len(ing_ing[\"second\"].unique())"
   ]
  },
  {
   "cell_type": "markdown",
   "id": "4ea1d0a7",
   "metadata": {},
   "source": [
    "### Filter data"
   ]
  },
  {
   "cell_type": "markdown",
   "id": "ea8b49a4",
   "metadata": {},
   "source": [
    "Filter rows whose \"times\" and \"docids_count\" value are below a threshold"
   ]
  },
  {
   "cell_type": "code",
   "execution_count": 7,
   "id": "db1be672",
   "metadata": {},
   "outputs": [],
   "source": [
    "def filter_low_values(df):\n",
    "    times_thresh = 5\n",
    "    docids_thresh = 20\n",
    "    filtered_times = df[df['times'] > times_thresh]\n",
    "    print(\"Dropped after times <\",times_thresh ,\"=\", len(df)-len(filtered_times))\n",
    "    filtered_docids = filtered_times[filtered_times['docids_count'] > docids_thresh]\n",
    "    print(\"Dropped after docids_count <\",docids_thresh,\"=\", len(filtered_times)-len(filtered_docids))\n",
    "    print(\"Final rows\",len(filtered_docids))\n",
    "    filtered_docids.plot(kind='kde')\n",
    "    return filtered_docids"
   ]
  },
  {
   "cell_type": "code",
   "execution_count": 8,
   "id": "c0c9aaca",
   "metadata": {},
   "outputs": [
    {
     "name": "stdout",
     "output_type": "stream",
     "text": [
      "Dropped after times < 5 = 2363\n",
      "Dropped after docids_count < 20 = 282\n",
      "Final rows 116\n"
     ]
    },
    {
     "data": {
      "image/png": "[encoded data removed]",
      "text/plain": [
       "<Figure size 640x480 with 1 Axes>"
      ]
     },
     "metadata": {},
     "output_type": "display_data"
    }
   ],
   "source": [
    "filtered_ing_ing = filter_low_values(ing_ing)"
   ]
  },
  {
   "cell_type": "markdown",
   "id": "ef20714b",
   "metadata": {},
   "source": [
    "Filter rows whose ingredient names are equal. Since we can't visualize rows like: \"alginate\" - \"alginate\""
   ]
  },
  {
   "cell_type": "code",
   "execution_count": 9,
   "id": "7bf68012",
   "metadata": {},
   "outputs": [],
   "source": [
    "def filter_repeated_links(df):\n",
    "    somelist = []\n",
    "    for index, row in df.iterrows():\n",
    "        if row[\"first\"] != row[\"second\"]:\n",
    "            somelist.append(row)\n",
    "    return pd.DataFrame(somelist)"
   ]
  },
  {
   "cell_type": "code",
   "execution_count": 10,
   "id": "38a7583c",
   "metadata": {},
   "outputs": [
    {
     "name": "stdout",
     "output_type": "stream",
     "text": [
      "Dropped 36 rows\n",
      "Final rows: 80\n"
     ]
    },
    {
     "data": {
      "text/html": [
       "<div>\n",
       "<style scoped>\n",
       "    .dataframe tbody tr th:only-of-type {\n",
       "        vertical-align: middle;\n",
       "    }\n",
       "\n",
       "    .dataframe tbody tr th {\n",
       "        vertical-align: top;\n",
       "    }\n",
       "\n",
       "    .dataframe thead th {\n",
       "        text-align: right;\n",
       "    }\n",
       "</style>\n",
       "<table border=\"1\" class=\"dataframe\">\n",
       "  <thead>\n",
       "    <tr style=\"text-align: right;\">\n",
       "      <th></th>\n",
       "      <th>first</th>\n",
       "      <th>second</th>\n",
       "      <th>times</th>\n",
       "      <th>docids</th>\n",
       "      <th>docids_count</th>\n",
       "    </tr>\n",
       "  </thead>\n",
       "  <tbody>\n",
       "    <tr>\n",
       "      <th>1</th>\n",
       "      <td>alginate</td>\n",
       "      <td>sodium</td>\n",
       "      <td>532</td>\n",
       "      <td>[3, 6, 10, 12, 14, 16, 19, 20, 21, 23, 24, 25,...</td>\n",
       "      <td>532</td>\n",
       "    </tr>\n",
       "    <tr>\n",
       "      <th>2</th>\n",
       "      <td>alginate</td>\n",
       "      <td>sodium alginate</td>\n",
       "      <td>508</td>\n",
       "      <td>[3, 6, 10, 12, 14, 16, 19, 20, 21, 23, 24, 25,...</td>\n",
       "      <td>508</td>\n",
       "    </tr>\n",
       "    <tr>\n",
       "      <th>3</th>\n",
       "      <td>sodium</td>\n",
       "      <td>sodium alginate</td>\n",
       "      <td>508</td>\n",
       "      <td>[3, 6, 10, 12, 14, 16, 19, 20, 21, 23, 24, 25,...</td>\n",
       "      <td>508</td>\n",
       "    </tr>\n",
       "    <tr>\n",
       "      <th>5</th>\n",
       "      <td>alginate</td>\n",
       "      <td>calcium</td>\n",
       "      <td>185</td>\n",
       "      <td>[5, 7, 13, 29, 33, 62, 79, 97, 98, 116, 118, 1...</td>\n",
       "      <td>185</td>\n",
       "    </tr>\n",
       "    <tr>\n",
       "      <th>7</th>\n",
       "      <td>alginate</td>\n",
       "      <td>chitosan</td>\n",
       "      <td>179</td>\n",
       "      <td>[5, 10, 17, 23, 30, 35, 52, 101, 127, 138, 146...</td>\n",
       "      <td>179</td>\n",
       "    </tr>\n",
       "  </tbody>\n",
       "</table>\n",
       "</div>"
      ],
      "text/plain": [
       "      first           second  times  \\\n",
       "1  alginate           sodium    532   \n",
       "2  alginate  sodium alginate    508   \n",
       "3    sodium  sodium alginate    508   \n",
       "5  alginate          calcium    185   \n",
       "7  alginate         chitosan    179   \n",
       "\n",
       "                                              docids  docids_count  \n",
       "1  [3, 6, 10, 12, 14, 16, 19, 20, 21, 23, 24, 25,...           532  \n",
       "2  [3, 6, 10, 12, 14, 16, 19, 20, 21, 23, 24, 25,...           508  \n",
       "3  [3, 6, 10, 12, 14, 16, 19, 20, 21, 23, 24, 25,...           508  \n",
       "5  [5, 7, 13, 29, 33, 62, 79, 97, 98, 116, 118, 1...           185  \n",
       "7  [5, 10, 17, 23, 30, 35, 52, 101, 127, 138, 146...           179  "
      ]
     },
     "execution_count": 10,
     "metadata": {},
     "output_type": "execute_result"
    }
   ],
   "source": [
    "filtered_no_repeat_ing_ing = filter_repeated_links(filtered_ing_ing)\n",
    "print(\"Dropped\",len(filtered_ing_ing)- len(filtered_no_repeat_ing_ing), \"rows\")\n",
    "print(\"Final rows:\",len(filtered_no_repeat_ing_ing) )\n",
    "filtered_no_repeat_ing_ing.head()"
   ]
  },
  {
   "cell_type": "markdown",
   "id": "6f22bc16",
   "metadata": {},
   "source": [
    "By the end of the filter process times and docids_count are the same..."
   ]
  },
  {
   "cell_type": "code",
   "execution_count": 17,
   "id": "9780dd7e",
   "metadata": {},
   "outputs": [
    {
     "data": {
      "text/plain": [
       "<AxesSubplot:xlabel='times'>"
      ]
     },
     "execution_count": 17,
     "metadata": {},
     "output_type": "execute_result"
    },
    {
     "data": {
      "image/png": "[encoded data removed]",
      "text/plain": [
       "<Figure size 640x480 with 1 Axes>"
      ]
     },
     "metadata": {},
     "output_type": "display_data"
    }
   ],
   "source": [
    "filtered_no_repeat_ing_ing.plot(x=\"times\", y=\"docids_count\")"
   ]
  },
  {
   "cell_type": "markdown",
   "id": "cf24c382",
   "metadata": {},
   "source": [
    "### Data export\n",
    "Export data for d3 force graph visualization"
   ]
  },
  {
   "cell_type": "code",
   "execution_count": 11,
   "id": "da981bd6",
   "metadata": {},
   "outputs": [],
   "source": [
    "def create_nodes(df):\n",
    "    # list of all unique nodes in both columns in json format\n",
    "    ing_list =[]\n",
    "    unique_union = list(set(df[\"first\"].unique()).union(set(df[\"second\"].unique())))\n",
    "    for ingredient in unique_union:\n",
    "        ing_dict = {}\n",
    "        ing_dict[\"id\"] = ingredient\n",
    "        ing_list.append(ing_dict)\n",
    "    return ing_list"
   ]
  },
  {
   "cell_type": "code",
   "execution_count": 12,
   "id": "df0b5ba3",
   "metadata": {},
   "outputs": [],
   "source": [
    "nodes_list = create_nodes(filtered_no_repeat_ing_ing)"
   ]
  },
  {
   "cell_type": "code",
   "execution_count": 13,
   "id": "eed883c1",
   "metadata": {},
   "outputs": [],
   "source": [
    "def create_links(df):\n",
    "    # list all rows\n",
    "    link_list = []\n",
    "    for index, row in df.iterrows():\n",
    "        link_dict = {}\n",
    "        link_dict[\"source\"] = row[\"first\"]\n",
    "        link_dict[\"target\"] = row[\"second\"]\n",
    "        link_dict[\"force\"] = row[\"times\"]\n",
    "        link_dict[\"doc_count\"] = row[\"docids_count\"]\n",
    "        link_list.append(link_dict)\n",
    "    return link_list"
   ]
  },
  {
   "cell_type": "code",
   "execution_count": 14,
   "id": "6f370621",
   "metadata": {},
   "outputs": [],
   "source": [
    "links_list = create_links(filtered_no_repeat_ing_ing)"
   ]
  },
  {
   "cell_type": "code",
   "execution_count": 15,
   "id": "7a453f77",
   "metadata": {},
   "outputs": [],
   "source": [
    "def join_lists(links_list,nodes_list):\n",
    "    out_dict ={}\n",
    "    out_dict[\"nodes\"] = nodes_list\n",
    "    out_dict[\"links\"] = links_list\n",
    "    return out_dict"
   ]
  },
  {
   "cell_type": "code",
   "execution_count": 16,
   "id": "5abe157b",
   "metadata": {},
   "outputs": [
    {
     "data": {
      "text/plain": [
       "{'nodes': [{'id': 'soy'},\n",
       "  {'id': 'xanthan'},\n",
       "  {'id': 'agar'},\n",
       "  {'id': 'sodium'},\n",
       "  {'id': 'chitosan'},\n",
       "  {'id': 'alcohol'},\n",
       "  {'id': 'cellulose'},\n",
       "  {'id': 'κ carrageenan'},\n",
       "  {'id': 'collagen'},\n",
       "  {'id': 'sodium alginate'},\n",
       "  {'id': 'zinc'},\n",
       "  {'id': 'carbon'},\n",
       "  {'id': 'carrageenan'},\n",
       "  {'id': 'graphene'},\n",
       "  {'id': 'methyl'},\n",
       "  {'id': 'pectin'},\n",
       "  {'id': 'graphene oxide'},\n",
       "  {'id': 'propylene'},\n",
       "  {'id': 'xanthan gum'},\n",
       "  {'id': 'chloride'},\n",
       "  {'id': 'starch'},\n",
       "  {'id': 'poly vinyl alcohol'},\n",
       "  {'id': 'silver'},\n",
       "  {'id': 'calcium chloride'},\n",
       "  {'id': 'glycerol'},\n",
       "  {'id': 'alginate'},\n",
       "  {'id': 'whey protein'},\n",
       "  {'id': 'polyethylene glycol'},\n",
       "  {'id': 'soy protein'},\n",
       "  {'id': 'gelatin'},\n",
       "  {'id': 'gum'},\n",
       "  {'id': 'calcium'}],\n",
       " 'links': [{'source': 'alginate',\n",
       "   'target': 'sodium',\n",
       "   'force': 532,\n",
       "   'doc_count': 532},\n",
       "  {'source': 'alginate',\n",
       "   'target': 'sodium alginate',\n",
       "   'force': 508,\n",
       "   'doc_count': 508},\n",
       "  {'source': 'sodium',\n",
       "   'target': 'sodium alginate',\n",
       "   'force': 508,\n",
       "   'doc_count': 508},\n",
       "  {'source': 'alginate', 'target': 'calcium', 'force': 185, 'doc_count': 185},\n",
       "  {'source': 'alginate', 'target': 'chitosan', 'force': 179, 'doc_count': 179},\n",
       "  {'source': 'alginate',\n",
       "   'target': 'cellulose',\n",
       "   'force': 133,\n",
       "   'doc_count': 133},\n",
       "  {'source': 'alginate', 'target': 'glycerol', 'force': 99, 'doc_count': 99},\n",
       "  {'source': 'calcium', 'target': 'sodium', 'force': 78, 'doc_count': 78},\n",
       "  {'source': 'chitosan', 'target': 'sodium', 'force': 73, 'doc_count': 73},\n",
       "  {'source': 'alginate', 'target': 'chloride', 'force': 72, 'doc_count': 72},\n",
       "  {'source': 'cellulose', 'target': 'sodium', 'force': 72, 'doc_count': 72},\n",
       "  {'source': 'alginate', 'target': 'starch', 'force': 71, 'doc_count': 71},\n",
       "  {'source': 'calcium',\n",
       "   'target': 'sodium alginate',\n",
       "   'force': 71,\n",
       "   'doc_count': 71},\n",
       "  {'source': 'carrageenan',\n",
       "   'target': 'κ carrageenan',\n",
       "   'force': 68,\n",
       "   'doc_count': 68},\n",
       "  {'source': 'cellulose',\n",
       "   'target': 'sodium alginate',\n",
       "   'force': 66,\n",
       "   'doc_count': 66},\n",
       "  {'source': 'glycerol', 'target': 'sodium', 'force': 66, 'doc_count': 66},\n",
       "  {'source': 'alcohol', 'target': 'alginate', 'force': 64, 'doc_count': 64},\n",
       "  {'source': 'chitosan',\n",
       "   'target': 'sodium alginate',\n",
       "   'force': 63,\n",
       "   'doc_count': 63},\n",
       "  {'source': 'alginate', 'target': 'pectin', 'force': 60, 'doc_count': 60},\n",
       "  {'source': 'glycerol',\n",
       "   'target': 'sodium alginate',\n",
       "   'force': 60,\n",
       "   'doc_count': 60},\n",
       "  {'source': 'alginate', 'target': 'gelatin', 'force': 60, 'doc_count': 60},\n",
       "  {'source': 'calcium', 'target': 'chloride', 'force': 59, 'doc_count': 59},\n",
       "  {'source': 'carrageenan',\n",
       "   'target': 'glycerol',\n",
       "   'force': 59,\n",
       "   'doc_count': 59},\n",
       "  {'source': 'alginate', 'target': 'gum', 'force': 55, 'doc_count': 55},\n",
       "  {'source': 'alginate',\n",
       "   'target': 'carrageenan',\n",
       "   'force': 53,\n",
       "   'doc_count': 53},\n",
       "  {'source': 'calcium chloride',\n",
       "   'target': 'chloride',\n",
       "   'force': 53,\n",
       "   'doc_count': 53},\n",
       "  {'source': 'calcium',\n",
       "   'target': 'calcium chloride',\n",
       "   'force': 53,\n",
       "   'doc_count': 53},\n",
       "  {'source': 'agar', 'target': 'glycerol', 'force': 53, 'doc_count': 53},\n",
       "  {'source': 'alginate',\n",
       "   'target': 'calcium chloride',\n",
       "   'force': 51,\n",
       "   'doc_count': 51},\n",
       "  {'source': 'alcohol', 'target': 'sodium', 'force': 47, 'doc_count': 47},\n",
       "  {'source': 'chloride', 'target': 'sodium', 'force': 46, 'doc_count': 46},\n",
       "  {'source': 'carrageenan',\n",
       "   'target': 'cellulose',\n",
       "   'force': 46,\n",
       "   'doc_count': 46},\n",
       "  {'source': 'alcohol',\n",
       "   'target': 'sodium alginate',\n",
       "   'force': 44,\n",
       "   'doc_count': 44},\n",
       "  {'source': 'agar', 'target': 'chitosan', 'force': 42, 'doc_count': 42},\n",
       "  {'source': 'agar', 'target': 'starch', 'force': 42, 'doc_count': 42},\n",
       "  {'source': 'cellulose', 'target': 'chitosan', 'force': 39, 'doc_count': 39},\n",
       "  {'source': 'carrageenan',\n",
       "   'target': 'chitosan',\n",
       "   'force': 39,\n",
       "   'doc_count': 39},\n",
       "  {'source': 'carrageenan', 'target': 'starch', 'force': 37, 'doc_count': 37},\n",
       "  {'source': 'gum', 'target': 'sodium', 'force': 37, 'doc_count': 37},\n",
       "  {'source': 'glycerol', 'target': 'starch', 'force': 36, 'doc_count': 36},\n",
       "  {'source': 'agar', 'target': 'silver', 'force': 36, 'doc_count': 36},\n",
       "  {'source': 'alginate', 'target': 'collagen', 'force': 36, 'doc_count': 36},\n",
       "  {'source': 'agar', 'target': 'cellulose', 'force': 35, 'doc_count': 35},\n",
       "  {'source': 'chloride',\n",
       "   'target': 'sodium alginate',\n",
       "   'force': 35,\n",
       "   'doc_count': 35},\n",
       "  {'source': 'gum', 'target': 'sodium alginate', 'force': 35, 'doc_count': 35},\n",
       "  {'source': 'alginate', 'target': 'carbon', 'force': 35, 'doc_count': 35},\n",
       "  {'source': 'sodium', 'target': 'starch', 'force': 34, 'doc_count': 34},\n",
       "  {'source': 'gelatin', 'target': 'sodium', 'force': 34, 'doc_count': 34},\n",
       "  {'source': 'gelatin',\n",
       "   'target': 'sodium alginate',\n",
       "   'force': 33,\n",
       "   'doc_count': 33},\n",
       "  {'source': 'graphene',\n",
       "   'target': 'graphene oxide',\n",
       "   'force': 33,\n",
       "   'doc_count': 33},\n",
       "  {'source': 'sodium alginate',\n",
       "   'target': 'starch',\n",
       "   'force': 32,\n",
       "   'doc_count': 32},\n",
       "  {'source': 'cellulose', 'target': 'starch', 'force': 31, 'doc_count': 31},\n",
       "  {'source': 'carrageenan', 'target': 'gum', 'force': 31, 'doc_count': 31},\n",
       "  {'source': 'alcohol',\n",
       "   'target': 'poly vinyl alcohol',\n",
       "   'force': 30,\n",
       "   'doc_count': 30},\n",
       "  {'source': 'agar', 'target': 'sodium', 'force': 29, 'doc_count': 29},\n",
       "  {'source': 'chitosan', 'target': 'starch', 'force': 29, 'doc_count': 29},\n",
       "  {'source': 'alginate', 'target': 'graphene', 'force': 29, 'doc_count': 29},\n",
       "  {'source': 'gum', 'target': 'xanthan', 'force': 28, 'doc_count': 28},\n",
       "  {'source': 'alginate',\n",
       "   'target': 'whey protein',\n",
       "   'force': 28,\n",
       "   'doc_count': 28},\n",
       "  {'source': 'carrageenan', 'target': 'sodium', 'force': 27, 'doc_count': 27},\n",
       "  {'source': 'pectin', 'target': 'sodium', 'force': 27, 'doc_count': 27},\n",
       "  {'source': 'agar', 'target': 'gelatin', 'force': 27, 'doc_count': 27},\n",
       "  {'source': 'carrageenan', 'target': 'gelatin', 'force': 26, 'doc_count': 26},\n",
       "  {'source': 'calcium chloride',\n",
       "   'target': 'sodium',\n",
       "   'force': 26,\n",
       "   'doc_count': 26},\n",
       "  {'source': 'alginate', 'target': 'silver', 'force': 26, 'doc_count': 26},\n",
       "  {'source': 'calcium chloride',\n",
       "   'target': 'sodium alginate',\n",
       "   'force': 26,\n",
       "   'doc_count': 26},\n",
       "  {'source': 'agar', 'target': 'alginate', 'force': 25, 'doc_count': 25},\n",
       "  {'source': 'xanthan', 'target': 'xanthan gum', 'force': 24, 'doc_count': 24},\n",
       "  {'source': 'gum', 'target': 'xanthan gum', 'force': 24, 'doc_count': 24},\n",
       "  {'source': 'pectin',\n",
       "   'target': 'sodium alginate',\n",
       "   'force': 24,\n",
       "   'doc_count': 24},\n",
       "  {'source': 'soy', 'target': 'soy protein', 'force': 24, 'doc_count': 24},\n",
       "  {'source': 'calcium', 'target': 'chitosan', 'force': 23, 'doc_count': 23},\n",
       "  {'source': 'cellulose', 'target': 'glycerol', 'force': 23, 'doc_count': 23},\n",
       "  {'source': 'alginate', 'target': 'zinc', 'force': 23, 'doc_count': 23},\n",
       "  {'source': 'alginate',\n",
       "   'target': 'graphene oxide',\n",
       "   'force': 22,\n",
       "   'doc_count': 22},\n",
       "  {'source': 'alginate',\n",
       "   'target': 'polyethylene glycol',\n",
       "   'force': 22,\n",
       "   'doc_count': 22},\n",
       "  {'source': 'alginate', 'target': 'methyl', 'force': 21, 'doc_count': 21},\n",
       "  {'source': 'alginate', 'target': 'propylene', 'force': 21, 'doc_count': 21},\n",
       "  {'source': 'alginate',\n",
       "   'target': 'poly vinyl alcohol',\n",
       "   'force': 21,\n",
       "   'doc_count': 21},\n",
       "  {'source': 'agar', 'target': 'carrageenan', 'force': 21, 'doc_count': 21}]}"
      ]
     },
     "execution_count": 16,
     "metadata": {},
     "output_type": "execute_result"
    }
   ],
   "source": [
    "links_and_nodes = join_lists(links_list,nodes_list)\n",
    "links_and_nodes"
   ]
  },
  {
   "cell_type": "markdown",
   "id": "d0cda5a6",
   "metadata": {},
   "source": [
    "Save json file"
   ]
  },
  {
   "cell_type": "code",
   "execution_count": 20,
   "id": "f694482b",
   "metadata": {},
   "outputs": [],
   "source": [
    "with open('ing_ing.json', 'w') as fp:\n",
    "    json.dump(links_and_nodes, fp)"
   ]
  },
  {
   "cell_type": "code",
   "execution_count": null,
   "id": "f2592b34",
   "metadata": {},
   "outputs": [],
   "source": []
  }
 ],
 "metadata": {
  "kernelspec": {
   "display_name": "Python 3 (ipykernel)",
   "language": "python",
   "name": "python3"
  },
  "language_info": {
   "codemirror_mode": {
    "name": "ipython",
    "version": 3
   },
   "file_extension": ".py",
   "mimetype": "text/x-python",
   "name": "python",
   "nbconvert_exporter": "python",
   "pygments_lexer": "ipython3",
   "version": "3.8.15"
  }
 },
 "nbformat": 4,
 "nbformat_minor": 5
}
