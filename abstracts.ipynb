{
 "cells": [
  {
   "cell_type": "code",
   "execution_count": 2,
   "id": "bce9ed0d",
   "metadata": {},
   "outputs": [],
   "source": [
    "import pandas as pd\n",
    "import json"
   ]
  },
  {
   "cell_type": "markdown",
   "id": "ee0b202a",
   "metadata": {},
   "source": [
    "### Load Abstracts Database"
   ]
  },
  {
   "cell_type": "code",
   "execution_count": 3,
   "id": "ecff19c0",
   "metadata": {
    "scrolled": true
   },
   "outputs": [
    {
     "data": {
      "text/html": [
       "<div>\n",
       "<style scoped>\n",
       "    .dataframe tbody tr th:only-of-type {\n",
       "        vertical-align: middle;\n",
       "    }\n",
       "\n",
       "    .dataframe tbody tr th {\n",
       "        vertical-align: top;\n",
       "    }\n",
       "\n",
       "    .dataframe thead th {\n",
       "        text-align: right;\n",
       "    }\n",
       "</style>\n",
       "<table border=\"1\" class=\"dataframe\">\n",
       "  <thead>\n",
       "    <tr style=\"text-align: right;\">\n",
       "      <th></th>\n",
       "      <th>ID</th>\n",
       "      <th>Authors</th>\n",
       "      <th>Title</th>\n",
       "      <th>Year</th>\n",
       "      <th>DOI</th>\n",
       "      <th>Link</th>\n",
       "      <th>Abstract</th>\n",
       "      <th>DOWNLOAD</th>\n",
       "    </tr>\n",
       "  </thead>\n",
       "  <tbody>\n",
       "    <tr>\n",
       "      <th>0</th>\n",
       "      <td>0</td>\n",
       "      <td>Marvizadeh M.M.; Tajik A.; Moosavian V.; Oladz...</td>\n",
       "      <td>Fabrication of cassava starch/mentha piperita ...</td>\n",
       "      <td>2021.0</td>\n",
       "      <td>10.22034/jchr.2020.1900584.1135</td>\n",
       "      <td>https://www.scopus.com/inward/record.uri?eid=2...</td>\n",
       "      <td>In this study; an edible film is prepared usin...</td>\n",
       "      <td>1.0</td>\n",
       "    </tr>\n",
       "    <tr>\n",
       "      <th>1</th>\n",
       "      <td>1</td>\n",
       "      <td>Yu G.; Zhang Q.; Wang Y.; Yang Q.; Yu H.; Li H...</td>\n",
       "      <td>Sulfated polysaccharides from red seaweed Geli...</td>\n",
       "      <td>2021.0</td>\n",
       "      <td>10.1016/j.foodhyd.2021.106820</td>\n",
       "      <td>https://www.scopus.com/inward/record.uri?eid=2...</td>\n",
       "      <td>Marine red algae are rich sources of sulfated ...</td>\n",
       "      <td>1.0</td>\n",
       "    </tr>\n",
       "    <tr>\n",
       "      <th>2</th>\n",
       "      <td>2</td>\n",
       "      <td>Wang B.; Yan S.; Gao W.; Kang X.; Yu B.; Liu P...</td>\n",
       "      <td>Antibacterial activity; optical; and functiona...</td>\n",
       "      <td>2021.0</td>\n",
       "      <td>10.1016/j.foodchem.2021.129743</td>\n",
       "      <td>https://www.scopus.com/inward/record.uri?eid=2...</td>\n",
       "      <td>In this study; the optical; morphological; ant...</td>\n",
       "      <td>1.0</td>\n",
       "    </tr>\n",
       "    <tr>\n",
       "      <th>3</th>\n",
       "      <td>3</td>\n",
       "      <td>Zhang J.; Huang X.; Shi J.; Liu L.; Zhang X.; ...</td>\n",
       "      <td>A visual bi-layer indicator based on roselle a...</td>\n",
       "      <td>2021.0</td>\n",
       "      <td>10.1016/j.foodchem.2021.129573</td>\n",
       "      <td>https://www.scopus.com/inward/record.uri?eid=2...</td>\n",
       "      <td>This study designed a new type indicator with ...</td>\n",
       "      <td>1.0</td>\n",
       "    </tr>\n",
       "    <tr>\n",
       "      <th>4</th>\n",
       "      <td>4</td>\n",
       "      <td>Roy S.; Rhim J.-W.</td>\n",
       "      <td>Fabrication of pectin/agar blended functional ...</td>\n",
       "      <td>2021.0</td>\n",
       "      <td>10.1016/j.foodhyd.2021.106823</td>\n",
       "      <td>https://www.scopus.com/inward/record.uri?eid=2...</td>\n",
       "      <td>Pectin/agar blended multifunctional composite ...</td>\n",
       "      <td>1.0</td>\n",
       "    </tr>\n",
       "  </tbody>\n",
       "</table>\n",
       "</div>"
      ],
      "text/plain": [
       "   ID                                            Authors  \\\n",
       "0   0  Marvizadeh M.M.; Tajik A.; Moosavian V.; Oladz...   \n",
       "1   1  Yu G.; Zhang Q.; Wang Y.; Yang Q.; Yu H.; Li H...   \n",
       "2   2  Wang B.; Yan S.; Gao W.; Kang X.; Yu B.; Liu P...   \n",
       "3   3  Zhang J.; Huang X.; Shi J.; Liu L.; Zhang X.; ...   \n",
       "4   4                                 Roy S.; Rhim J.-W.   \n",
       "\n",
       "                                               Title    Year  \\\n",
       "0  Fabrication of cassava starch/mentha piperita ...  2021.0   \n",
       "1  Sulfated polysaccharides from red seaweed Geli...  2021.0   \n",
       "2  Antibacterial activity; optical; and functiona...  2021.0   \n",
       "3  A visual bi-layer indicator based on roselle a...  2021.0   \n",
       "4  Fabrication of pectin/agar blended functional ...  2021.0   \n",
       "\n",
       "                               DOI  \\\n",
       "0  10.22034/jchr.2020.1900584.1135   \n",
       "1    10.1016/j.foodhyd.2021.106820   \n",
       "2   10.1016/j.foodchem.2021.129743   \n",
       "3   10.1016/j.foodchem.2021.129573   \n",
       "4    10.1016/j.foodhyd.2021.106823   \n",
       "\n",
       "                                                Link  \\\n",
       "0  https://www.scopus.com/inward/record.uri?eid=2...   \n",
       "1  https://www.scopus.com/inward/record.uri?eid=2...   \n",
       "2  https://www.scopus.com/inward/record.uri?eid=2...   \n",
       "3  https://www.scopus.com/inward/record.uri?eid=2...   \n",
       "4  https://www.scopus.com/inward/record.uri?eid=2...   \n",
       "\n",
       "                                            Abstract  DOWNLOAD  \n",
       "0  In this study; an edible film is prepared usin...       1.0  \n",
       "1  Marine red algae are rich sources of sulfated ...       1.0  \n",
       "2  In this study; the optical; morphological; ant...       1.0  \n",
       "3  This study designed a new type indicator with ...       1.0  \n",
       "4  Pectin/agar blended multifunctional composite ...       1.0  "
      ]
     },
     "execution_count": 3,
     "metadata": {},
     "output_type": "execute_result"
    }
   ],
   "source": [
    "abstracts_database = pd.read_excel('article-abstract-doi-database.xlsx') \n",
    "abstracts_database.head()"
   ]
  },
  {
   "cell_type": "code",
   "execution_count": null,
   "id": "a08327a2",
   "metadata": {},
   "outputs": [],
   "source": []
  },
  {
   "cell_type": "code",
   "execution_count": null,
   "id": "2c569a95",
   "metadata": {},
   "outputs": [],
   "source": []
  }
 ],
 "metadata": {
  "kernelspec": {
   "display_name": "Python 3 (ipykernel)",
   "language": "python",
   "name": "python3"
  },
  "language_info": {
   "codemirror_mode": {
    "name": "ipython",
    "version": 3
   },
   "file_extension": ".py",
   "mimetype": "text/x-python",
   "name": "python",
   "nbconvert_exporter": "python",
   "pygments_lexer": "ipython3",
   "version": "3.8.15"
  }
 },
 "nbformat": 4,
 "nbformat_minor": 5
}
